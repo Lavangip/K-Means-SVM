{
  "nbformat": 4,
  "nbformat_minor": 0,
  "metadata": {
    "colab": {
      "provenance": []
    },
    "kernelspec": {
      "name": "python3",
      "display_name": "Python 3"
    },
    "language_info": {
      "name": "python"
    }
  },
  "cells": [
    {
      "cell_type": "markdown",
      "source": [
        "**PROGRAMMING ASSIGNMENT 5**"
      ],
      "metadata": {
        "id": "qT336rcKn6Gz"
      }
    },
    {
      "cell_type": "markdown",
      "source": [
        "QUESTION 1   \n",
        "Image Compression Using K-maps"
      ],
      "metadata": {
        "id": "5xZBA5tSn-p6"
      }
    },
    {
      "cell_type": "code",
      "source": [
        "import numpy as np\n",
        "import matplotlib.pyplot as plt\n",
        "import os\n",
        "from sklearn.cluster import KMeans\n",
        "from sklearn.utils import shuffle\n",
        "from sklearn.metrics import pairwise_distances_argmin\n",
        "from PIL import Image\n",
        "from skimage import io"
      ],
      "metadata": {
        "id": "lPZy3muWoM49"
      },
      "execution_count": 1,
      "outputs": []
    },
    {
      "cell_type": "markdown",
      "source": [
        "(a) Defining computeCentroid function"
      ],
      "metadata": {
        "id": "UO7wTCpipcFF"
      }
    },
    {
      "cell_type": "code",
      "execution_count": 2,
      "metadata": {
        "id": "6wV8shXem9kF"
      },
      "outputs": [],
      "source": [
        "def computeCentroid(image, indices):\n",
        "    pixels = [image[idx] for idx in indices]\n",
        "\n",
        "    # Computing the mean of RGB values\n",
        "    centroid = np.mean(pixels, axis=0)\n",
        "\n",
        "    return centroid"
      ]
    },
    {
      "cell_type": "markdown",
      "source": [
        "(b) Defining myKmeans function"
      ],
      "metadata": {
        "id": "nfrpuEh4puRK"
      }
    },
    {
      "cell_type": "code",
      "source": [
        "def mykmeans(X, k, max_iters=100):\n",
        "    #Initializing cluster centers randomly\n",
        "    centroids = X[np.random.choice(X.shape[0], k, replace=False)]\n",
        "\n",
        "    for _ in range(max_iters):\n",
        "        #Assigning each data point to the nearest cluster center\n",
        "        distances = np.linalg.norm(X[:, np.newaxis, :] - centroids, axis=2)\n",
        "        labels = np.argmin(distances, axis=1)\n",
        "\n",
        "        #Updating cluster centers\n",
        "        new_centroids = np.array([X[labels == i].mean(axis=0) for i in range(k)])\n",
        "\n",
        "        # Checking for convergence\n",
        "        if np.allclose(centroids, new_centroids):\n",
        "            break\n",
        "\n",
        "        centroids = new_centroids\n",
        "\n",
        "    return centroids"
      ],
      "metadata": {
        "id": "O09zdlVSpl3Z"
      },
      "execution_count": 3,
      "outputs": []
    },
    {
      "cell_type": "markdown",
      "source": [
        "(c) Compressing the image"
      ],
      "metadata": {
        "id": "8OlXqkMkqN2D"
      }
    },
    {
      "cell_type": "code",
      "source": [
        "def compress_image(image, centroids):\n",
        "    # Reshaping the image into a 2D array of pixels\n",
        "    pixels = np.reshape(image, (-1, 3))\n",
        "    print(\"Shape of pixels array:\", pixels.shape)\n",
        "\n",
        "    # Calculating distances from each pixel to each centroid\n",
        "    distances = np.linalg.norm(pixels[:, np.newaxis, :] - centroids, axis=2)\n",
        "\n",
        "    # Assigning each pixel to the nearest centroid\n",
        "    labels = np.argmin(distances, axis=1)\n",
        "\n",
        "    # Replacing each pixel with the color of its nearest centroid\n",
        "    compressed_pixels = centroids[labels]\n",
        "\n",
        "    # Reshaping the compressed pixels back into the original image shape\n",
        "    compressed_image = np.reshape(compressed_pixels, image.shape)\n",
        "\n",
        "    return compressed_image"
      ],
      "metadata": {
        "id": "_QqGfewtqEOR"
      },
      "execution_count": 4,
      "outputs": []
    },
    {
      "cell_type": "code",
      "source": [
        "def save_compressed_images(image, k_values, save_path):\n",
        "    os.makedirs(save_path, exist_ok=True)\n",
        "\n",
        "    original_path = os.path.join(save_path, 'original.png')\n",
        "    plt.imsave(original_path, image)\n",
        "\n",
        "    for k in k_values:\n",
        "        # Performing K-means clustering\n",
        "        centroids = mykmeans(image.reshape(-1, 3), k)\n",
        "\n",
        "        # Compressing the image using centroids\n",
        "        compressed_image = compress_image(image, centroids)\n",
        "\n",
        "        compressed_path = os.path.join(save_path, f'compressed_K{k}.png')\n",
        "        plt.imsave(compressed_path, compressed_image)"
      ],
      "metadata": {
        "id": "_iAc6G3vqjUO"
      },
      "execution_count": 5,
      "outputs": []
    },
    {
      "cell_type": "code",
      "source": [
        "image = plt.imread('/content/drive/MyDrive/ML Data/test.png')\n",
        "k_values = [3, 4, 6, 8]\n",
        "save_path = '/content/compressed_images/'\n",
        "\n",
        "save_compressed_images(image, k_values, save_path)"
      ],
      "metadata": {
        "colab": {
          "base_uri": "https://localhost:8080/"
        },
        "id": "YWK_s3RUq6qp",
        "outputId": "22926ebe-40b9-467e-9868-8b04aac271de"
      },
      "execution_count": 6,
      "outputs": [
        {
          "output_type": "stream",
          "name": "stdout",
          "text": [
            "Shape of pixels array: (262144, 3)\n",
            "Shape of pixels array: (262144, 3)\n",
            "Shape of pixels array: (262144, 3)\n",
            "Shape of pixels array: (262144, 3)\n"
          ]
        }
      ]
    },
    {
      "cell_type": "markdown",
      "source": [
        "(d) Comparing results with the results of kmeans from sklearn library"
      ],
      "metadata": {
        "id": "AX5XWT2Nwrns"
      }
    },
    {
      "cell_type": "code",
      "source": [
        "def compressed_images(image, k_values, save_path):\n",
        "    os.makedirs(save_path, exist_ok=True)\n",
        "\n",
        "    original_path = os.path.join(save_path, 'original.png')\n",
        "    plt.imsave(original_path, image)\n",
        "\n",
        "    for k in k_values:\n",
        "        # Performing K-means clustering using scikit-learn's KMeans\n",
        "        kmeans = KMeans(n_clusters=k, random_state=0).fit(image.reshape(-1, 3))\n",
        "        centroids = kmeans.cluster_centers_\n",
        "\n",
        "        # Compressing the image using centroids\n",
        "        compressed_image = compress_image(image, centroids)\n",
        "\n",
        "        compressed_path = os.path.join(save_path, f'compressed_K{k}_sklearn.png')\n",
        "        plt.imsave(compressed_path, compressed_image)\n"
      ],
      "metadata": {
        "id": "N-_s5N-kv9Lw"
      },
      "execution_count": 7,
      "outputs": []
    },
    {
      "cell_type": "code",
      "source": [
        "image = plt.imread('/content/drive/MyDrive/ML Data/test.png')\n",
        "k_values = [3, 4, 6, 8]\n",
        "save_path = '/content/compressed_images_Kmeans/'\n",
        "\n",
        "compressed_images(image, k_values, save_path)"
      ],
      "metadata": {
        "colab": {
          "base_uri": "https://localhost:8080/"
        },
        "id": "-Chl6amHxFml",
        "outputId": "de122634-20e7-41e6-faf0-a86408ae1273"
      },
      "execution_count": 8,
      "outputs": [
        {
          "output_type": "stream",
          "name": "stderr",
          "text": [
            "/usr/local/lib/python3.10/dist-packages/sklearn/cluster/_kmeans.py:870: FutureWarning: The default value of `n_init` will change from 10 to 'auto' in 1.4. Set the value of `n_init` explicitly to suppress the warning\n",
            "  warnings.warn(\n"
          ]
        },
        {
          "output_type": "stream",
          "name": "stdout",
          "text": [
            "Shape of pixels array: (262144, 3)\n"
          ]
        },
        {
          "output_type": "stream",
          "name": "stderr",
          "text": [
            "/usr/local/lib/python3.10/dist-packages/sklearn/cluster/_kmeans.py:870: FutureWarning: The default value of `n_init` will change from 10 to 'auto' in 1.4. Set the value of `n_init` explicitly to suppress the warning\n",
            "  warnings.warn(\n"
          ]
        },
        {
          "output_type": "stream",
          "name": "stdout",
          "text": [
            "Shape of pixels array: (262144, 3)\n"
          ]
        },
        {
          "output_type": "stream",
          "name": "stderr",
          "text": [
            "/usr/local/lib/python3.10/dist-packages/sklearn/cluster/_kmeans.py:870: FutureWarning: The default value of `n_init` will change from 10 to 'auto' in 1.4. Set the value of `n_init` explicitly to suppress the warning\n",
            "  warnings.warn(\n"
          ]
        },
        {
          "output_type": "stream",
          "name": "stdout",
          "text": [
            "Shape of pixels array: (262144, 3)\n"
          ]
        },
        {
          "output_type": "stream",
          "name": "stderr",
          "text": [
            "/usr/local/lib/python3.10/dist-packages/sklearn/cluster/_kmeans.py:870: FutureWarning: The default value of `n_init` will change from 10 to 'auto' in 1.4. Set the value of `n_init` explicitly to suppress the warning\n",
            "  warnings.warn(\n"
          ]
        },
        {
          "output_type": "stream",
          "name": "stdout",
          "text": [
            "Shape of pixels array: (262144, 3)\n"
          ]
        }
      ]
    },
    {
      "cell_type": "markdown",
      "source": [
        "(e) Spatial Coherence"
      ],
      "metadata": {
        "id": "XtBOGYQWyeQt"
      }
    },
    {
      "cell_type": "code",
      "source": [
        "def compute_spatial_distance(pixel1, pixel2):\n",
        "    spatial_dist = np.linalg.norm(pixel1 - pixel2)\n",
        "    return spatial_dist"
      ],
      "metadata": {
        "id": "TcK4lEvr5O2J"
      },
      "execution_count": null,
      "outputs": []
    },
    {
      "cell_type": "code",
      "source": [
        "def mykmeans_spatial(X, k, max_iters=100, spatial_weight=0.5):\n",
        "    #Initializing cluster centers randomly\n",
        "    centroids = X[np.random.choice(X.shape[0], k, replace=False)]\n",
        "\n",
        "    for _ in range(max_iters):\n",
        "        # Assigning each data point to the nearest cluster center\n",
        "        distances = np.linalg.norm(X[:, np.newaxis, :] - centroids, axis=2)\n",
        "\n",
        "        # Calculate spatial distances\n",
        "        spatial_distances = np.array([[compute_spatial_distance(X[i], X[j]) for j in range(X.shape[0])] for i in range(X.shape[0])])\n",
        "\n",
        "        # Combine color distance and spatial distance with a weighted sum\n",
        "        combined_distances = (1 - spatial_weight) * distances + spatial_weight * spatial_distances\n",
        "\n",
        "        labels = np.argmin(combined_distances, axis=1)\n",
        "\n",
        "        # Updating cluster centers\n",
        "        new_centroids = np.array([X[labels == i].mean(axis=0) for i in range(k)])\n",
        "\n",
        "        # Checking for convergence\n",
        "        if np.allclose(centroids, new_centroids):\n",
        "            break\n",
        "\n",
        "        centroids = new_centroids\n",
        "\n",
        "    return centroids"
      ],
      "metadata": {
        "id": "cypSC1df5SLy"
      },
      "execution_count": null,
      "outputs": []
    },
    {
      "cell_type": "code",
      "source": [
        "def save_compressed_images_spatial(image, k_values, save_path):\n",
        "    # Create a directory if it doesn't exist\n",
        "    os.makedirs(save_path, exist_ok=True)\n",
        "\n",
        "    # Save the original image\n",
        "    original_path = os.path.join(save_path, 'original.png')\n",
        "    plt.imsave(original_path, image)\n",
        "\n",
        "    for k in k_values:\n",
        "        # Performing K-means clustering with spatial coherence\n",
        "        centroids = mykmeans_spatial(image.reshape(-1, 3), k)\n",
        "\n",
        "        # Compressing the image using centroids\n",
        "        compressed_image = compress_image(image, centroids)\n",
        "\n",
        "        # Save the compressed image\n",
        "        compressed_path = os.path.join(save_path, f'compressed_K{k}_spatial.png')\n",
        "        plt.imsave(compressed_path, compressed_image)"
      ],
      "metadata": {
        "id": "Z8nf8R795V3d"
      },
      "execution_count": null,
      "outputs": []
    },
    {
      "cell_type": "code",
      "source": [
        "image = plt.imread('/content/drive/MyDrive/ML Data/test.png')\n",
        "k_values = [3, 4, 6, 8]\n",
        "save_path = '/content/compressed_images_spatial/'\n",
        "\n",
        "save_compressed_images_spatial(image, k_values, save_path)"
      ],
      "metadata": {
        "id": "18_IgXK75YR_"
      },
      "execution_count": null,
      "outputs": []
    },
    {
      "cell_type": "markdown",
      "source": [
        "QUESTION 2    \n",
        "SVM"
      ],
      "metadata": {
        "id": "tV4xutSFt6Aq"
      }
    },
    {
      "cell_type": "code",
      "source": [
        "from sklearn.model_selection import train_test_split\n",
        "from sklearn.preprocessing import StandardScaler\n",
        "from sklearn.svm import LinearSVC\n",
        "from sklearn.datasets import make_moons\n",
        "from sklearn.model_selection import GridSearchCV\n",
        "from sklearn.svm import SVC"
      ],
      "metadata": {
        "id": "S3ZEprBauva4"
      },
      "execution_count": 26,
      "outputs": []
    },
    {
      "cell_type": "markdown",
      "source": [
        "TASK 1(A)"
      ],
      "metadata": {
        "id": "jNVygY5Xup4P"
      }
    },
    {
      "cell_type": "code",
      "source": [
        "from sklearn import datasets\n",
        "iris = datasets.load_iris ( as_frame=True )"
      ],
      "metadata": {
        "id": "k4f3H0AhzHTO"
      },
      "execution_count": 10,
      "outputs": []
    },
    {
      "cell_type": "code",
      "source": [
        "#Selecting only 'setosa' and 'versicolor' classes\n",
        "selected_classes = iris.target.isin([0, 1])\n",
        "iris_binary = iris.data[selected_classes]\n",
        "target_binary = iris.target[selected_classes]\n",
        "\n",
        "#Extracting 'petal length' and 'petal width' features\n",
        "X = iris_binary[['petal length (cm)', 'petal width (cm)']]\n",
        "y = target_binary\n",
        "\n",
        "#Normalizing the dataset\n",
        "scaler = StandardScaler()\n",
        "X_normalized = scaler.fit_transform(X)\n",
        "\n",
        "#Spliting the dataset into training and testing sets\n",
        "X_train, X_test, y_train, y_test = train_test_split(X_normalized, y, test_size=0.2, random_state=42)\n",
        "\n",
        "print(\"Shape of X_train:\", X_train.shape)\n",
        "print(\"Shape of X_test:\", X_test.shape)\n",
        "print(\"Shape of y_train:\", y_train.shape)\n",
        "print(\"Shape of y_test:\", y_test.shape)\n"
      ],
      "metadata": {
        "colab": {
          "base_uri": "https://localhost:8080/"
        },
        "id": "YqJQACAPusaI",
        "outputId": "d766634b-4912-42c6-c7ba-cfd990628c2f"
      },
      "execution_count": 11,
      "outputs": [
        {
          "output_type": "stream",
          "name": "stdout",
          "text": [
            "Shape of X_train: (80, 2)\n",
            "Shape of X_test: (20, 2)\n",
            "Shape of y_train: (80,)\n",
            "Shape of y_test: (20,)\n"
          ]
        }
      ]
    },
    {
      "cell_type": "markdown",
      "source": [
        "Task 1(B)"
      ],
      "metadata": {
        "id": "i3x0zsNSvt98"
      }
    },
    {
      "cell_type": "code",
      "source": [
        "#Training a Linear Support Vector Classifier\n",
        "linear_svc = LinearSVC(random_state=42)\n",
        "linear_svc.fit(X_train, y_train)\n",
        "\n",
        "print(\"LinearSVC trained successfully.\")"
      ],
      "metadata": {
        "colab": {
          "base_uri": "https://localhost:8080/"
        },
        "id": "WXl4ZdHZvRiG",
        "outputId": "5c2eb125-3881-467a-fcbd-59dade4bb8ca"
      },
      "execution_count": 12,
      "outputs": [
        {
          "output_type": "stream",
          "name": "stdout",
          "text": [
            "LinearSVC trained successfully.\n"
          ]
        }
      ]
    },
    {
      "cell_type": "code",
      "source": [
        "def plot_decision_boundary_save(clf, X, y, title, save_path):\n",
        "    plt.figure(figsize=(8, 6))\n",
        "\n",
        "    x_min, x_max = X[:, 0].min() - 1, X[:, 0].max() + 1\n",
        "    y_min, y_max = X[:, 1].min() - 1, X[:, 1].max() + 1\n",
        "\n",
        "    xx, yy = np.meshgrid(np.arange(x_min, x_max, 0.02),\n",
        "                         np.arange(y_min, y_max, 0.02))\n",
        "\n",
        "    Z = clf.predict(np.c_[xx.ravel(), yy.ravel()])\n",
        "    Z = Z.reshape(xx.shape)\n",
        "\n",
        "    # Plot decision boundary\n",
        "    plt.contourf(xx, yy, Z, cmap=plt.cm.Paired, alpha=0.8)\n",
        "\n",
        "    # Plot training data\n",
        "    plt.scatter(X[:, 0], X[:, 1], c=y, cmap=plt.cm.Paired)\n",
        "    plt.xlabel('Petal Length (cm)')\n",
        "    plt.ylabel('Petal Width (cm)')\n",
        "    plt.title(title)\n",
        "\n",
        "\n",
        "    plt.savefig(save_path)\n",
        "    plt.close()"
      ],
      "metadata": {
        "id": "Q-ehF4qAvz9X"
      },
      "execution_count": 13,
      "outputs": []
    },
    {
      "cell_type": "code",
      "source": [
        "plot_decision_boundary_save(linear_svc, X_train, y_train, \"Decision Boundary on Training Data\", \"/content/training_decision_boundary.png\")\n",
        "\n",
        "# Saving scatterplot of test data along with original decision boundary\n",
        "plt.figure(figsize=(8, 6))\n",
        "plt.scatter(X_test[:, 0], X_test[:, 1], c=y_test, cmap=plt.cm.Paired)\n",
        "plt.xlabel('Petal Length (cm)')\n",
        "plt.ylabel('Petal Width (cm)')\n",
        "plt.title('Scatterplot of Test Data with Original Decision Boundary')\n",
        "\n",
        "# Retrieving the coefficients and intercept from the trained LinearSVC\n",
        "coef = linear_svc.coef_[0]\n",
        "intercept = linear_svc.intercept_\n",
        "\n",
        "# Ploting the decision boundary\n",
        "x_vals = np.arange(-2, 2, 0.1)\n",
        "y_vals = -(coef[0] / coef[1]) * x_vals - intercept / coef[1]\n",
        "plt.plot(x_vals, y_vals, color='black')\n",
        "\n",
        "plt.savefig(\"/content/test_scatterplot_with_decision_boundary.png\")\n",
        "plt.close()"
      ],
      "metadata": {
        "id": "OlxxtpZ8wO_T"
      },
      "execution_count": 14,
      "outputs": []
    },
    {
      "cell_type": "markdown",
      "source": [
        "TASK 2(A)"
      ],
      "metadata": {
        "id": "zPwaouZDxsr5"
      }
    },
    {
      "cell_type": "code",
      "source": [
        "# Generating synthetic dataset\n",
        "X_synthetic, y_synthetic = make_moons(n_samples=500, noise=0.05, random_state=42)\n",
        "\n",
        "# Adding 5% noise to the dataset\n",
        "num_noise_points = int(0.05 * len(X_synthetic))\n",
        "random_indices = np.random.choice(len(X_synthetic), num_noise_points, replace=False)\n",
        "y_synthetic[random_indices] = 1 - y_synthetic[random_indices]  # Flipping labels\n",
        "\n",
        "print(\"Shape of synthetic dataset:\", X_synthetic.shape)\n",
        "print(\"Number of misclassifications:\", np.sum(y_synthetic != (1 - y_synthetic)))"
      ],
      "metadata": {
        "colab": {
          "base_uri": "https://localhost:8080/"
        },
        "id": "r4tQa7ECwXgG",
        "outputId": "b6ab2939-7e4f-4b62-92bc-692c1310c9e2"
      },
      "execution_count": 16,
      "outputs": [
        {
          "output_type": "stream",
          "name": "stdout",
          "text": [
            "Shape of synthetic dataset: (500, 2)\n",
            "Number of misclassifications: 500\n"
          ]
        }
      ]
    },
    {
      "cell_type": "markdown",
      "source": [
        "TASK 2(B)"
      ],
      "metadata": {
        "id": "0o8N2eqVu0Il"
      }
    },
    {
      "cell_type": "code",
      "source": [
        "# Defining SVM models with different kernels\n",
        "svm_linear = SVC(kernel='linear', random_state=42)\n",
        "svm_poly = SVC(kernel='poly', degree=3, gamma='auto', random_state=42)  # Polynomial kernel with degree 3\n",
        "svm_rbf = SVC(kernel='rbf', gamma='auto', random_state=42)  # RBF kernel\n",
        "\n",
        "# Fiting SVM models to the synthetic dataset\n",
        "svm_linear.fit(X_synthetic, y_synthetic)\n",
        "svm_poly.fit(X_synthetic, y_synthetic)\n",
        "svm_rbf.fit(X_synthetic, y_synthetic)"
      ],
      "metadata": {
        "colab": {
          "base_uri": "https://localhost:8080/",
          "height": 51
        },
        "id": "nEqMVZPmu2Ak",
        "outputId": "ba8ebd04-f168-45cc-a42e-c6cbabd8daec"
      },
      "execution_count": 17,
      "outputs": [
        {
          "output_type": "execute_result",
          "data": {
            "text/plain": [
              "SVC(gamma='auto', random_state=42)"
            ],
            "text/html": [
              "<style>#sk-container-id-1 {color: black;background-color: white;}#sk-container-id-1 pre{padding: 0;}#sk-container-id-1 div.sk-toggleable {background-color: white;}#sk-container-id-1 label.sk-toggleable__label {cursor: pointer;display: block;width: 100%;margin-bottom: 0;padding: 0.3em;box-sizing: border-box;text-align: center;}#sk-container-id-1 label.sk-toggleable__label-arrow:before {content: \"▸\";float: left;margin-right: 0.25em;color: #696969;}#sk-container-id-1 label.sk-toggleable__label-arrow:hover:before {color: black;}#sk-container-id-1 div.sk-estimator:hover label.sk-toggleable__label-arrow:before {color: black;}#sk-container-id-1 div.sk-toggleable__content {max-height: 0;max-width: 0;overflow: hidden;text-align: left;background-color: #f0f8ff;}#sk-container-id-1 div.sk-toggleable__content pre {margin: 0.2em;color: black;border-radius: 0.25em;background-color: #f0f8ff;}#sk-container-id-1 input.sk-toggleable__control:checked~div.sk-toggleable__content {max-height: 200px;max-width: 100%;overflow: auto;}#sk-container-id-1 input.sk-toggleable__control:checked~label.sk-toggleable__label-arrow:before {content: \"▾\";}#sk-container-id-1 div.sk-estimator input.sk-toggleable__control:checked~label.sk-toggleable__label {background-color: #d4ebff;}#sk-container-id-1 div.sk-label input.sk-toggleable__control:checked~label.sk-toggleable__label {background-color: #d4ebff;}#sk-container-id-1 input.sk-hidden--visually {border: 0;clip: rect(1px 1px 1px 1px);clip: rect(1px, 1px, 1px, 1px);height: 1px;margin: -1px;overflow: hidden;padding: 0;position: absolute;width: 1px;}#sk-container-id-1 div.sk-estimator {font-family: monospace;background-color: #f0f8ff;border: 1px dotted black;border-radius: 0.25em;box-sizing: border-box;margin-bottom: 0.5em;}#sk-container-id-1 div.sk-estimator:hover {background-color: #d4ebff;}#sk-container-id-1 div.sk-parallel-item::after {content: \"\";width: 100%;border-bottom: 1px solid gray;flex-grow: 1;}#sk-container-id-1 div.sk-label:hover label.sk-toggleable__label {background-color: #d4ebff;}#sk-container-id-1 div.sk-serial::before {content: \"\";position: absolute;border-left: 1px solid gray;box-sizing: border-box;top: 0;bottom: 0;left: 50%;z-index: 0;}#sk-container-id-1 div.sk-serial {display: flex;flex-direction: column;align-items: center;background-color: white;padding-right: 0.2em;padding-left: 0.2em;position: relative;}#sk-container-id-1 div.sk-item {position: relative;z-index: 1;}#sk-container-id-1 div.sk-parallel {display: flex;align-items: stretch;justify-content: center;background-color: white;position: relative;}#sk-container-id-1 div.sk-item::before, #sk-container-id-1 div.sk-parallel-item::before {content: \"\";position: absolute;border-left: 1px solid gray;box-sizing: border-box;top: 0;bottom: 0;left: 50%;z-index: -1;}#sk-container-id-1 div.sk-parallel-item {display: flex;flex-direction: column;z-index: 1;position: relative;background-color: white;}#sk-container-id-1 div.sk-parallel-item:first-child::after {align-self: flex-end;width: 50%;}#sk-container-id-1 div.sk-parallel-item:last-child::after {align-self: flex-start;width: 50%;}#sk-container-id-1 div.sk-parallel-item:only-child::after {width: 0;}#sk-container-id-1 div.sk-dashed-wrapped {border: 1px dashed gray;margin: 0 0.4em 0.5em 0.4em;box-sizing: border-box;padding-bottom: 0.4em;background-color: white;}#sk-container-id-1 div.sk-label label {font-family: monospace;font-weight: bold;display: inline-block;line-height: 1.2em;}#sk-container-id-1 div.sk-label-container {text-align: center;}#sk-container-id-1 div.sk-container {/* jupyter's `normalize.less` sets `[hidden] { display: none; }` but bootstrap.min.css set `[hidden] { display: none !important; }` so we also need the `!important` here to be able to override the default hidden behavior on the sphinx rendered scikit-learn.org. See: https://github.com/scikit-learn/scikit-learn/issues/21755 */display: inline-block !important;position: relative;}#sk-container-id-1 div.sk-text-repr-fallback {display: none;}</style><div id=\"sk-container-id-1\" class=\"sk-top-container\"><div class=\"sk-text-repr-fallback\"><pre>SVC(gamma=&#x27;auto&#x27;, random_state=42)</pre><b>In a Jupyter environment, please rerun this cell to show the HTML representation or trust the notebook. <br />On GitHub, the HTML representation is unable to render, please try loading this page with nbviewer.org.</b></div><div class=\"sk-container\" hidden><div class=\"sk-item\"><div class=\"sk-estimator sk-toggleable\"><input class=\"sk-toggleable__control sk-hidden--visually\" id=\"sk-estimator-id-1\" type=\"checkbox\" checked><label for=\"sk-estimator-id-1\" class=\"sk-toggleable__label sk-toggleable__label-arrow\">SVC</label><div class=\"sk-toggleable__content\"><pre>SVC(gamma=&#x27;auto&#x27;, random_state=42)</pre></div></div></div></div></div>"
            ]
          },
          "metadata": {},
          "execution_count": 17
        }
      ]
    },
    {
      "cell_type": "code",
      "source": [
        "def plot_decision_boundary_save(model, X, y, title, save_path):\n",
        "    plt.figure(figsize=(8, 6))\n",
        "    x_min, x_max = X[:, 0].min() - 0.2, X[:, 0].max() + 0.2\n",
        "    y_min, y_max = X[:, 1].min() - 0.2, X[:, 1].max() + 0.2\n",
        "    xx, yy = np.meshgrid(np.linspace(x_min, x_max, 100),\n",
        "                         np.linspace(y_min, y_max, 100))\n",
        "    Z = model.predict(np.c_[xx.ravel(), yy.ravel()])\n",
        "    Z = Z.reshape(xx.shape)\n",
        "    plt.contourf(xx, yy, Z, alpha=0.3)\n",
        "    plt.scatter(X[:, 0], X[:, 1], c=y, cmap=plt.cm.Paired)\n",
        "    plt.xlabel('Feature 1')\n",
        "    plt.ylabel('Feature 2')\n",
        "    plt.title(title)\n",
        "    plt.savefig(save_path)\n",
        "    plt.close()\n"
      ],
      "metadata": {
        "id": "AXqyn7DQvE8y"
      },
      "execution_count": 19,
      "outputs": []
    },
    {
      "cell_type": "code",
      "source": [
        "plot_decision_boundary_save(svm_linear, X_synthetic, y_synthetic, 'Linear Kernel', '/content/svm_linear_decision_boundary.png')\n",
        "plot_decision_boundary_save(svm_poly, X_synthetic, y_synthetic, 'Polynomial Kernel', '/content/svm_poly_decision_boundary.png')\n",
        "plot_decision_boundary_save(svm_rbf, X_synthetic, y_synthetic, 'RBF Kernel', '/content/svm_rbf_decision_boundary.png')"
      ],
      "metadata": {
        "id": "RtRc2NxHvTu1"
      },
      "execution_count": 20,
      "outputs": []
    },
    {
      "cell_type": "markdown",
      "source": [
        "TASK 2(C)"
      ],
      "metadata": {
        "id": "9Qn5rFNyxMLQ"
      }
    },
    {
      "cell_type": "code",
      "source": [
        "# Defining the parameter grid for grid search\n",
        "param_grid = {'C': [0.1, 1, 10, 100],\n",
        "              'gamma': [0.001, 0.01, 0.1, 1]}\n",
        "\n",
        "svm_rbf_tuned = SVC(kernel='rbf', random_state=42)\n",
        "\n",
        "grid_search = GridSearchCV(estimator=svm_rbf_tuned, param_grid=param_grid, cv=5, scoring='accuracy', verbose=1)\n",
        "\n",
        "# Performing grid search\n",
        "grid_search.fit(X_synthetic, y_synthetic)\n",
        "\n",
        "print(\"Best hyperparameters:\", grid_search.best_params_)\n",
        "\n",
        "# Get the best SVM model\n",
        "best_svm_rbf = grid_search.best_estimator_\n"
      ],
      "metadata": {
        "id": "Gd7Ncx7OyA-R",
        "colab": {
          "base_uri": "https://localhost:8080/"
        },
        "outputId": "06133538-9be1-4037-86cc-f14e0a206788"
      },
      "execution_count": 21,
      "outputs": [
        {
          "output_type": "stream",
          "name": "stdout",
          "text": [
            "Fitting 5 folds for each of 16 candidates, totalling 80 fits\n",
            "Best hyperparameters: {'C': 1, 'gamma': 1}\n"
          ]
        }
      ]
    },
    {
      "cell_type": "markdown",
      "source": [
        "TASK 2(D)"
      ],
      "metadata": {
        "id": "y_w14VWRyQso"
      }
    },
    {
      "cell_type": "code",
      "source": [
        "def plot_decision_boundary_save(model, X, y, title, save_path):\n",
        "    plt.figure(figsize=(8, 6))\n",
        "    x_min, x_max = X[:, 0].min() - 0.2, X[:, 0].max() + 0.2\n",
        "    y_min, y_max = X[:, 1].min() - 0.2, X[:, 1].max() + 0.2\n",
        "    xx, yy = np.meshgrid(np.linspace(x_min, x_max, 100),\n",
        "                         np.linspace(y_min, y_max, 100))\n",
        "    Z = model.predict(np.c_[xx.ravel(), yy.ravel()])\n",
        "    Z = Z.reshape(xx.shape)\n",
        "    plt.contourf(xx, yy, Z, alpha=0.3)\n",
        "    plt.scatter(X[:, 0], X[:, 1], c=y, cmap=plt.cm.Paired)\n",
        "    plt.xlabel('Feature 1')\n",
        "    plt.ylabel('Feature 2')\n",
        "    plt.title(title)\n",
        "    plt.savefig(save_path)\n",
        "    plt.close()"
      ],
      "metadata": {
        "id": "P1ieG1fOyBP3"
      },
      "execution_count": 22,
      "outputs": []
    },
    {
      "cell_type": "code",
      "source": [
        "# Plot decision boundary with best hyperparameters and save the plot\n",
        "plot_decision_boundary_save(best_svm_rbf, X_synthetic, y_synthetic, 'RBF Kernel SVM with Best Hyperparameters', '/content/svm_rbf_decision_boundary_best_hyperparameters.png')\n"
      ],
      "metadata": {
        "id": "3TjzSlVcwLP5"
      },
      "execution_count": 23,
      "outputs": []
    }
  ]
}